{
  "nbformat": 4,
  "nbformat_minor": 0,
  "metadata": {
    "colab": {
      "name": "notebook.ipynb",
      "provenance": [],
      "collapsed_sections": [],
      "mount_file_id": "1UYJM_woEKloCPiL1OD2weUBzbv_C8yWT",
      "authorship_tag": "ABX9TyMC/4sbXzCC85pCrWEWonLW",
      "include_colab_link": true
    },
    "kernelspec": {
      "name": "python3",
      "display_name": "Python 3"
    },
    "accelerator": "GPU"
  },
  "cells": [
    {
      "cell_type": "markdown",
      "metadata": {
        "id": "view-in-github",
        "colab_type": "text"
      },
      "source": [
        "<a href=\"https://colab.research.google.com/github/HarshRangwala/NeuralNetworkProjects/blob/master/notebook.ipynb\" target=\"_parent\"><img src=\"https://colab.research.google.com/assets/colab-badge.svg\" alt=\"Open In Colab\"/></a>"
      ]
    },
    {
      "cell_type": "code",
      "metadata": {
        "id": "VrBS5vmBVznj",
        "colab_type": "code",
        "colab": {
          "base_uri": "https://localhost:8080/",
          "height": 35
        },
        "outputId": "7247abf1-a52e-44a8-f1a4-e97116ae9779"
      },
      "source": [
        "%cd /content/drive/My Drive/Colab Notebooks/Music nation"
      ],
      "execution_count": 1,
      "outputs": [
        {
          "output_type": "stream",
          "text": [
            "/content/drive/My Drive/Colab Notebooks/Music nation\n"
          ],
          "name": "stdout"
        }
      ]
    },
    {
      "cell_type": "code",
      "metadata": {
        "id": "b3TythmAWSMt",
        "colab_type": "code",
        "colab": {
          "base_uri": "https://localhost:8080/",
          "height": 53
        },
        "outputId": "a0344cfc-def7-43c2-b0d3-be6b4e1b6f48"
      },
      "source": [
        "!ls"
      ],
      "execution_count": 2,
      "outputs": [
        {
          "output_type": "stream",
          "text": [
            "data\t\t input_music  predict.py      training.py\n",
            "generated_music  plot.py      trained_models\n"
          ],
          "name": "stdout"
        }
      ]
    },
    {
      "cell_type": "code",
      "metadata": {
        "id": "Qxg4ElZhWWvr",
        "colab_type": "code",
        "colab": {
          "base_uri": "https://localhost:8080/",
          "height": 35
        },
        "outputId": "601c25f5-4942-4ea7-a949-94bb205ec501"
      },
      "source": [
        "!pip install music21"
      ],
      "execution_count": 3,
      "outputs": [
        {
          "output_type": "stream",
          "text": [
            "Requirement already satisfied: music21 in /usr/local/lib/python3.6/dist-packages (5.5.0)\n"
          ],
          "name": "stdout"
        }
      ]
    },
    {
      "cell_type": "code",
      "metadata": {
        "id": "fXqU_zTZlpSq",
        "colab_type": "code",
        "colab": {
          "base_uri": "https://localhost:8080/",
          "height": 1000
        },
        "outputId": "f3c7f1c7-846b-48f2-ebfe-970bbfd0ad46"
      },
      "source": [
        "!python training.py"
      ],
      "execution_count": 4,
      "outputs": [
        {
          "output_type": "stream",
          "text": [
            "Using TensorFlow backend.\n",
            "2020-07-01 08:57:09.898849: I tensorflow/stream_executor/platform/default/dso_loader.cc:44] Successfully opened dynamic library libcudart.so.10.1\n",
            "Parsing /content/drive/My Drive/Colab Notebooks/Music nation/input_music/44.mid\n",
            "Parsing /content/drive/My Drive/Colab Notebooks/Music nation/input_music/54.mid\n",
            "Parsing /content/drive/My Drive/Colab Notebooks/Music nation/input_music/5.mid\n",
            "Parsing /content/drive/My Drive/Colab Notebooks/Music nation/input_music/49.mid\n",
            "Parsing /content/drive/My Drive/Colab Notebooks/Music nation/input_music/51.mid\n",
            "Parsing /content/drive/My Drive/Colab Notebooks/Music nation/input_music/48.mid\n",
            "Parsing /content/drive/My Drive/Colab Notebooks/Music nation/input_music/50.mid\n",
            "Parsing /content/drive/My Drive/Colab Notebooks/Music nation/input_music/55.mid\n",
            "Parsing /content/drive/My Drive/Colab Notebooks/Music nation/input_music/47.mid\n",
            "Parsing /content/drive/My Drive/Colab Notebooks/Music nation/input_music/56.mid\n",
            "Parsing /content/drive/My Drive/Colab Notebooks/Music nation/input_music/58.mid\n",
            "Parsing /content/drive/My Drive/Colab Notebooks/Music nation/input_music/68.mid\n",
            "Parsing /content/drive/My Drive/Colab Notebooks/Music nation/input_music/6.mid\n",
            "Parsing /content/drive/My Drive/Colab Notebooks/Music nation/input_music/67.mid\n",
            "Parsing /content/drive/My Drive/Colab Notebooks/Music nation/input_music/59.mid\n",
            "Parsing /content/drive/My Drive/Colab Notebooks/Music nation/input_music/57.mid\n",
            "Parsing /content/drive/My Drive/Colab Notebooks/Music nation/input_music/53.mid\n",
            "Parsing /content/drive/My Drive/Colab Notebooks/Music nation/input_music/52.mid\n",
            "Parsing /content/drive/My Drive/Colab Notebooks/Music nation/input_music/79.mid\n",
            "Parsing /content/drive/My Drive/Colab Notebooks/Music nation/input_music/77.mid\n",
            "Parsing /content/drive/My Drive/Colab Notebooks/Music nation/input_music/76.mid\n",
            "Parsing /content/drive/My Drive/Colab Notebooks/Music nation/input_music/75.mid\n",
            "Parsing /content/drive/My Drive/Colab Notebooks/Music nation/input_music/73.mid\n",
            "Parsing /content/drive/My Drive/Colab Notebooks/Music nation/input_music/71.mid\n",
            "Parsing /content/drive/My Drive/Colab Notebooks/Music nation/input_music/74.mid\n",
            "Parsing /content/drive/My Drive/Colab Notebooks/Music nation/input_music/72.mid\n",
            "Parsing /content/drive/My Drive/Colab Notebooks/Music nation/input_music/70.mid\n",
            "Parsing /content/drive/My Drive/Colab Notebooks/Music nation/input_music/78.mid\n",
            "Parsing /content/drive/My Drive/Colab Notebooks/Music nation/input_music/7.mid\n",
            "Parsing /content/drive/My Drive/Colab Notebooks/Music nation/input_music/69.mid\n",
            "Parsing /content/drive/My Drive/Colab Notebooks/Music nation/input_music/66.mid\n",
            "Parsing /content/drive/My Drive/Colab Notebooks/Music nation/input_music/63.mid\n",
            "Parsing /content/drive/My Drive/Colab Notebooks/Music nation/input_music/62.mid\n",
            "Parsing /content/drive/My Drive/Colab Notebooks/Music nation/input_music/61.mid\n",
            "Parsing /content/drive/My Drive/Colab Notebooks/Music nation/input_music/64.mid\n",
            "Parsing /content/drive/My Drive/Colab Notebooks/Music nation/input_music/65.mid\n",
            "Parsing /content/drive/My Drive/Colab Notebooks/Music nation/input_music/60.mid\n",
            "Parsing /content/drive/My Drive/Colab Notebooks/Music nation/input_music/8.mid\n",
            "Parsing /content/drive/My Drive/Colab Notebooks/Music nation/input_music/86.mid\n",
            "Parsing /content/drive/My Drive/Colab Notebooks/Music nation/input_music/87.mid\n",
            "Parsing /content/drive/My Drive/Colab Notebooks/Music nation/input_music/82.mid\n",
            "Parsing /content/drive/My Drive/Colab Notebooks/Music nation/input_music/83.mid\n",
            "Parsing /content/drive/My Drive/Colab Notebooks/Music nation/input_music/84.mid\n",
            "Parsing /content/drive/My Drive/Colab Notebooks/Music nation/input_music/88.mid\n",
            "Parsing /content/drive/My Drive/Colab Notebooks/Music nation/input_music/85.mid\n",
            "Parsing /content/drive/My Drive/Colab Notebooks/Music nation/input_music/9.mid\n",
            "Parsing /content/drive/My Drive/Colab Notebooks/Music nation/input_music/80.mid\n",
            "Parsing /content/drive/My Drive/Colab Notebooks/Music nation/input_music/89.mid\n",
            "Parsing /content/drive/My Drive/Colab Notebooks/Music nation/input_music/90.mid\n",
            "Parsing /content/drive/My Drive/Colab Notebooks/Music nation/input_music/92.mid\n",
            "Parsing /content/drive/My Drive/Colab Notebooks/Music nation/input_music/93.mid\n",
            "Parsing /content/drive/My Drive/Colab Notebooks/Music nation/input_music/91.mid\n",
            "Parsing /content/drive/My Drive/Colab Notebooks/Music nation/input_music/1.mid\n",
            "Parsing /content/drive/My Drive/Colab Notebooks/Music nation/input_music/37.mid\n",
            "Parsing /content/drive/My Drive/Colab Notebooks/Music nation/input_music/16.mid\n",
            "Parsing /content/drive/My Drive/Colab Notebooks/Music nation/input_music/34.mid\n",
            "Parsing /content/drive/My Drive/Colab Notebooks/Music nation/input_music/25.mid\n",
            "Parsing /content/drive/My Drive/Colab Notebooks/Music nation/input_music/43.mid\n",
            "Parsing /content/drive/My Drive/Colab Notebooks/Music nation/input_music/3.mid\n",
            "Parsing /content/drive/My Drive/Colab Notebooks/Music nation/input_music/41.mid\n",
            "Parsing /content/drive/My Drive/Colab Notebooks/Music nation/input_music/29.mid\n",
            "Parsing /content/drive/My Drive/Colab Notebooks/Music nation/input_music/35.mid\n",
            "Parsing /content/drive/My Drive/Colab Notebooks/Music nation/input_music/13.mid\n",
            "Parsing /content/drive/My Drive/Colab Notebooks/Music nation/input_music/46.mid\n",
            "Parsing /content/drive/My Drive/Colab Notebooks/Music nation/input_music/19.mid\n",
            "Parsing /content/drive/My Drive/Colab Notebooks/Music nation/input_music/42.mid\n",
            "Parsing /content/drive/My Drive/Colab Notebooks/Music nation/input_music/40.mid\n",
            "Parsing /content/drive/My Drive/Colab Notebooks/Music nation/input_music/22.mid\n",
            "Parsing /content/drive/My Drive/Colab Notebooks/Music nation/input_music/26.mid\n",
            "Parsing /content/drive/My Drive/Colab Notebooks/Music nation/input_music/28.mid\n",
            "Parsing /content/drive/My Drive/Colab Notebooks/Music nation/input_music/23.mid\n",
            "Parsing /content/drive/My Drive/Colab Notebooks/Music nation/input_music/2.mid\n",
            "Parsing /content/drive/My Drive/Colab Notebooks/Music nation/input_music/15.mid\n",
            "Parsing /content/drive/My Drive/Colab Notebooks/Music nation/input_music/17.mid\n",
            "Parsing /content/drive/My Drive/Colab Notebooks/Music nation/input_music/27.mid\n",
            "Parsing /content/drive/My Drive/Colab Notebooks/Music nation/input_music/45.mid\n",
            "Parsing /content/drive/My Drive/Colab Notebooks/Music nation/input_music/30.mid\n",
            "Parsing /content/drive/My Drive/Colab Notebooks/Music nation/input_music/38.mid\n",
            "Parsing /content/drive/My Drive/Colab Notebooks/Music nation/input_music/10.mid\n",
            "Parsing /content/drive/My Drive/Colab Notebooks/Music nation/input_music/39.mid\n",
            "Parsing /content/drive/My Drive/Colab Notebooks/Music nation/input_music/33.mid\n",
            "Parsing /content/drive/My Drive/Colab Notebooks/Music nation/input_music/20.mid\n",
            "Parsing /content/drive/My Drive/Colab Notebooks/Music nation/input_music/12.mid\n",
            "Parsing /content/drive/My Drive/Colab Notebooks/Music nation/input_music/32.mid\n",
            "Parsing /content/drive/My Drive/Colab Notebooks/Music nation/input_music/11.mid\n",
            "Parsing /content/drive/My Drive/Colab Notebooks/Music nation/input_music/18.mid\n",
            "Parsing /content/drive/My Drive/Colab Notebooks/Music nation/input_music/21.mid\n",
            "Parsing /content/drive/My Drive/Colab Notebooks/Music nation/input_music/24.mid\n",
            "Parsing /content/drive/My Drive/Colab Notebooks/Music nation/input_music/31.mid\n",
            "Parsing /content/drive/My Drive/Colab Notebooks/Music nation/input_music/36.mid\n",
            "Parsing /content/drive/My Drive/Colab Notebooks/Music nation/input_music/14.mid\n",
            "Parsing /content/drive/My Drive/Colab Notebooks/Music nation/input_music/4.mid\n",
            "2020-07-01 08:59:40.831666: I tensorflow/stream_executor/platform/default/dso_loader.cc:44] Successfully opened dynamic library libcuda.so.1\n",
            "2020-07-01 08:59:40.878134: I tensorflow/stream_executor/cuda/cuda_gpu_executor.cc:981] successful NUMA node read from SysFS had negative value (-1), but there must be at least one NUMA node, so returning NUMA node zero\n",
            "2020-07-01 08:59:40.879020: I tensorflow/core/common_runtime/gpu/gpu_device.cc:1561] Found device 0 with properties: \n",
            "pciBusID: 0000:00:04.0 name: Tesla K80 computeCapability: 3.7\n",
            "coreClock: 0.8235GHz coreCount: 13 deviceMemorySize: 11.17GiB deviceMemoryBandwidth: 223.96GiB/s\n",
            "2020-07-01 08:59:40.879095: I tensorflow/stream_executor/platform/default/dso_loader.cc:44] Successfully opened dynamic library libcudart.so.10.1\n",
            "2020-07-01 08:59:41.100356: I tensorflow/stream_executor/platform/default/dso_loader.cc:44] Successfully opened dynamic library libcublas.so.10\n",
            "2020-07-01 08:59:41.245677: I tensorflow/stream_executor/platform/default/dso_loader.cc:44] Successfully opened dynamic library libcufft.so.10\n",
            "2020-07-01 08:59:41.270024: I tensorflow/stream_executor/platform/default/dso_loader.cc:44] Successfully opened dynamic library libcurand.so.10\n",
            "2020-07-01 08:59:41.535764: I tensorflow/stream_executor/platform/default/dso_loader.cc:44] Successfully opened dynamic library libcusolver.so.10\n",
            "2020-07-01 08:59:41.573414: I tensorflow/stream_executor/platform/default/dso_loader.cc:44] Successfully opened dynamic library libcusparse.so.10\n",
            "2020-07-01 08:59:42.061863: I tensorflow/stream_executor/platform/default/dso_loader.cc:44] Successfully opened dynamic library libcudnn.so.7\n",
            "2020-07-01 08:59:42.062140: I tensorflow/stream_executor/cuda/cuda_gpu_executor.cc:981] successful NUMA node read from SysFS had negative value (-1), but there must be at least one NUMA node, so returning NUMA node zero\n",
            "2020-07-01 08:59:42.063033: I tensorflow/stream_executor/cuda/cuda_gpu_executor.cc:981] successful NUMA node read from SysFS had negative value (-1), but there must be at least one NUMA node, so returning NUMA node zero\n",
            "2020-07-01 08:59:42.063753: I tensorflow/core/common_runtime/gpu/gpu_device.cc:1703] Adding visible gpu devices: 0\n",
            "2020-07-01 08:59:42.083451: I tensorflow/core/platform/profile_utils/cpu_utils.cc:102] CPU Frequency: 2300000000 Hz\n",
            "2020-07-01 08:59:42.083737: I tensorflow/compiler/xla/service/service.cc:168] XLA service 0x16a7b80 initialized for platform Host (this does not guarantee that XLA will be used). Devices:\n",
            "2020-07-01 08:59:42.083779: I tensorflow/compiler/xla/service/service.cc:176]   StreamExecutor device (0): Host, Default Version\n",
            "2020-07-01 08:59:42.170824: I tensorflow/stream_executor/cuda/cuda_gpu_executor.cc:981] successful NUMA node read from SysFS had negative value (-1), but there must be at least one NUMA node, so returning NUMA node zero\n",
            "2020-07-01 08:59:42.171741: I tensorflow/compiler/xla/service/service.cc:168] XLA service 0x16a79c0 initialized for platform CUDA (this does not guarantee that XLA will be used). Devices:\n",
            "2020-07-01 08:59:42.171783: I tensorflow/compiler/xla/service/service.cc:176]   StreamExecutor device (0): Tesla K80, Compute Capability 3.7\n",
            "2020-07-01 08:59:42.172983: I tensorflow/stream_executor/cuda/cuda_gpu_executor.cc:981] successful NUMA node read from SysFS had negative value (-1), but there must be at least one NUMA node, so returning NUMA node zero\n",
            "2020-07-01 08:59:42.173765: I tensorflow/core/common_runtime/gpu/gpu_device.cc:1561] Found device 0 with properties: \n",
            "pciBusID: 0000:00:04.0 name: Tesla K80 computeCapability: 3.7\n",
            "coreClock: 0.8235GHz coreCount: 13 deviceMemorySize: 11.17GiB deviceMemoryBandwidth: 223.96GiB/s\n",
            "2020-07-01 08:59:42.173835: I tensorflow/stream_executor/platform/default/dso_loader.cc:44] Successfully opened dynamic library libcudart.so.10.1\n",
            "2020-07-01 08:59:42.173891: I tensorflow/stream_executor/platform/default/dso_loader.cc:44] Successfully opened dynamic library libcublas.so.10\n",
            "2020-07-01 08:59:42.173931: I tensorflow/stream_executor/platform/default/dso_loader.cc:44] Successfully opened dynamic library libcufft.so.10\n",
            "2020-07-01 08:59:42.173967: I tensorflow/stream_executor/platform/default/dso_loader.cc:44] Successfully opened dynamic library libcurand.so.10\n",
            "2020-07-01 08:59:42.174009: I tensorflow/stream_executor/platform/default/dso_loader.cc:44] Successfully opened dynamic library libcusolver.so.10\n",
            "2020-07-01 08:59:42.174044: I tensorflow/stream_executor/platform/default/dso_loader.cc:44] Successfully opened dynamic library libcusparse.so.10\n",
            "2020-07-01 08:59:42.174081: I tensorflow/stream_executor/platform/default/dso_loader.cc:44] Successfully opened dynamic library libcudnn.so.7\n",
            "2020-07-01 08:59:42.174204: I tensorflow/stream_executor/cuda/cuda_gpu_executor.cc:981] successful NUMA node read from SysFS had negative value (-1), but there must be at least one NUMA node, so returning NUMA node zero\n",
            "2020-07-01 08:59:42.174991: I tensorflow/stream_executor/cuda/cuda_gpu_executor.cc:981] successful NUMA node read from SysFS had negative value (-1), but there must be at least one NUMA node, so returning NUMA node zero\n",
            "2020-07-01 08:59:42.175697: I tensorflow/core/common_runtime/gpu/gpu_device.cc:1703] Adding visible gpu devices: 0\n",
            "2020-07-01 08:59:42.180927: I tensorflow/stream_executor/platform/default/dso_loader.cc:44] Successfully opened dynamic library libcudart.so.10.1\n",
            "2020-07-01 08:59:47.784955: I tensorflow/core/common_runtime/gpu/gpu_device.cc:1102] Device interconnect StreamExecutor with strength 1 edge matrix:\n",
            "2020-07-01 08:59:47.785022: I tensorflow/core/common_runtime/gpu/gpu_device.cc:1108]      0 \n",
            "2020-07-01 08:59:47.785053: I tensorflow/core/common_runtime/gpu/gpu_device.cc:1121] 0:   N \n",
            "2020-07-01 08:59:47.794653: I tensorflow/stream_executor/cuda/cuda_gpu_executor.cc:981] successful NUMA node read from SysFS had negative value (-1), but there must be at least one NUMA node, so returning NUMA node zero\n",
            "2020-07-01 08:59:47.795670: I tensorflow/stream_executor/cuda/cuda_gpu_executor.cc:981] successful NUMA node read from SysFS had negative value (-1), but there must be at least one NUMA node, so returning NUMA node zero\n",
            "2020-07-01 08:59:47.797046: W tensorflow/core/common_runtime/gpu/gpu_bfc_allocator.cc:39] Overriding allow_growth setting because the TF_FORCE_GPU_ALLOW_GROWTH environment variable is set. Original config value was 0.\n",
            "2020-07-01 08:59:47.797123: I tensorflow/core/common_runtime/gpu/gpu_device.cc:1247] Created TensorFlow device (/job:localhost/replica:0/task:0/device:GPU:0 with 10634 MB memory) -> physical GPU (device: 0, name: Tesla K80, pci bus id: 0000:00:04.0, compute capability: 3.7)\n",
            "Epoch 1/43\n",
            "2020-07-01 08:59:52.795784: I tensorflow/stream_executor/platform/default/dso_loader.cc:44] Successfully opened dynamic library libcublas.so.10\n",
            "57077/57077 [==============================] - 703s 12ms/step - loss: 4.6285 - accuracy: 0.0333\n",
            "Epoch 2/43\n",
            "57077/57077 [==============================] - 690s 12ms/step - loss: 4.4977 - accuracy: 0.0430\n",
            "Epoch 3/43\n",
            "57077/57077 [==============================] - 690s 12ms/step - loss: 4.3880 - accuracy: 0.0559\n",
            "Epoch 4/43\n",
            "57077/57077 [==============================] - 688s 12ms/step - loss: 4.2232 - accuracy: 0.0772\n",
            "Epoch 5/43\n",
            "57077/57077 [==============================] - 686s 12ms/step - loss: 4.0269 - accuracy: 0.1084\n",
            "Epoch 6/43\n",
            "57077/57077 [==============================] - 684s 12ms/step - loss: 3.7719 - accuracy: 0.1472\n",
            "Epoch 7/43\n",
            "57077/57077 [==============================] - 683s 12ms/step - loss: 3.4496 - accuracy: 0.1973\n",
            "Epoch 8/43\n",
            "57077/57077 [==============================] - 685s 12ms/step - loss: 3.0990 - accuracy: 0.2559\n",
            "Epoch 9/43\n",
            "57077/57077 [==============================] - 683s 12ms/step - loss: 2.7610 - accuracy: 0.3180\n",
            "Epoch 10/43\n",
            "57077/57077 [==============================] - 682s 12ms/step - loss: 2.4395 - accuracy: 0.3834\n",
            "Epoch 11/43\n",
            "57077/57077 [==============================] - 678s 12ms/step - loss: 2.1563 - accuracy: 0.4411\n",
            "Epoch 12/43\n",
            "57077/57077 [==============================] - 677s 12ms/step - loss: 1.9054 - accuracy: 0.4958\n",
            "Epoch 13/43\n",
            "57077/57077 [==============================] - 678s 12ms/step - loss: 1.6861 - accuracy: 0.5496\n",
            "Epoch 14/43\n",
            "57077/57077 [==============================] - 677s 12ms/step - loss: 1.4932 - accuracy: 0.5931\n",
            "Epoch 15/43\n",
            "57077/57077 [==============================] - 672s 12ms/step - loss: 1.3231 - accuracy: 0.6360\n",
            "Epoch 16/43\n",
            "57077/57077 [==============================] - 674s 12ms/step - loss: 1.1759 - accuracy: 0.6729\n",
            "Epoch 17/43\n",
            "57077/57077 [==============================] - 673s 12ms/step - loss: 1.0478 - accuracy: 0.7044\n",
            "Epoch 18/43\n",
            "57077/57077 [==============================] - 674s 12ms/step - loss: 0.9327 - accuracy: 0.7339\n",
            "Epoch 19/43\n",
            "57077/57077 [==============================] - 672s 12ms/step - loss: 0.8450 - accuracy: 0.7575\n",
            "Epoch 20/43\n",
            "57077/57077 [==============================] - 674s 12ms/step - loss: 0.7627 - accuracy: 0.7803\n",
            "Epoch 21/43\n",
            "57077/57077 [==============================] - 676s 12ms/step - loss: 0.6954 - accuracy: 0.7991\n",
            "Epoch 22/43\n",
            "57077/57077 [==============================] - 678s 12ms/step - loss: 0.6280 - accuracy: 0.8161\n",
            "Epoch 23/43\n",
            "57077/57077 [==============================] - 682s 12ms/step - loss: 0.5864 - accuracy: 0.8289\n",
            "Epoch 24/43\n",
            "57077/57077 [==============================] - 681s 12ms/step - loss: 0.5284 - accuracy: 0.8455\n",
            "Epoch 25/43\n",
            "57077/57077 [==============================] - 685s 12ms/step - loss: 0.4821 - accuracy: 0.8565\n",
            "Epoch 26/43\n",
            "57077/57077 [==============================] - 692s 12ms/step - loss: 0.4451 - accuracy: 0.8699\n",
            "Epoch 27/43\n",
            "57077/57077 [==============================] - 686s 12ms/step - loss: 0.4323 - accuracy: 0.8719\n",
            "Epoch 28/43\n",
            "57077/57077 [==============================] - 687s 12ms/step - loss: 0.3924 - accuracy: 0.8848\n",
            "Epoch 29/43\n",
            "57077/57077 [==============================] - 686s 12ms/step - loss: 0.3664 - accuracy: 0.8913\n",
            "Epoch 30/43\n",
            "57077/57077 [==============================] - 688s 12ms/step - loss: 0.3527 - accuracy: 0.8945\n",
            "Epoch 31/43\n",
            "57077/57077 [==============================] - 688s 12ms/step - loss: 0.3484 - accuracy: 0.8963\n",
            "Epoch 32/43\n",
            "57077/57077 [==============================] - 690s 12ms/step - loss: 0.3184 - accuracy: 0.9055\n",
            "Epoch 33/43\n",
            "57077/57077 [==============================] - 693s 12ms/step - loss: 0.3036 - accuracy: 0.9106\n",
            "Epoch 34/43\n",
            "57077/57077 [==============================] - 697s 12ms/step - loss: 0.3031 - accuracy: 0.9110\n",
            "Epoch 35/43\n",
            "57077/57077 [==============================] - 693s 12ms/step - loss: 0.2718 - accuracy: 0.9200\n",
            "Epoch 36/43\n",
            "57077/57077 [==============================] - 696s 12ms/step - loss: 0.2658 - accuracy: 0.9229\n",
            "Epoch 37/43\n",
            "57077/57077 [==============================] - 693s 12ms/step - loss: 0.4169 - accuracy: 0.8903\n",
            "Epoch 38/43\n",
            "57077/57077 [==============================] - 694s 12ms/step - loss: 0.2042 - accuracy: 0.9397\n",
            "Epoch 39/43\n",
            "57077/57077 [==============================] - 695s 12ms/step - loss: 0.2241 - accuracy: 0.9334\n",
            "Epoch 40/43\n",
            "57077/57077 [==============================] - 689s 12ms/step - loss: 0.2376 - accuracy: 0.9303\n",
            "Epoch 41/43\n",
            "57077/57077 [==============================] - 694s 12ms/step - loss: 0.2334 - accuracy: 0.9313\n",
            "Epoch 42/43\n",
            "57077/57077 [==============================] - 692s 12ms/step - loss: 0.2302 - accuracy: 0.9311\n",
            "Epoch 43/43\n",
            "57077/57077 [==============================] - 693s 12ms/step - loss: 0.2334 - accuracy: 0.9320\n",
            "<Figure size 640x480 with 1 Axes>\n",
            "<Figure size 640x480 with 1 Axes>\n"
          ],
          "name": "stdout"
        }
      ]
    },
    {
      "cell_type": "code",
      "metadata": {
        "id": "rtece3YzmBB-",
        "colab_type": "code",
        "colab": {
          "base_uri": "https://localhost:8080/",
          "height": 126
        },
        "outputId": "ba3a3d4d-c4f4-4a78-8984-b8b0ddeac6b9"
      },
      "source": [
        "%history"
      ],
      "execution_count": 6,
      "outputs": [
        {
          "output_type": "stream",
          "text": [
            "%cd /content/drive/My Drive/Colab Notebooks/Music nation\n",
            "!ls\n",
            "!pip install music21\n",
            "!python training.py\n",
            "history\n",
            "%history\n"
          ],
          "name": "stdout"
        }
      ]
    },
    {
      "cell_type": "code",
      "metadata": {
        "id": "KQKmlwBrX717",
        "colab_type": "code",
        "colab": {
          "base_uri": "https://localhost:8080/",
          "height": 873
        },
        "outputId": "482e411b-b61b-4027-ee30-0e4bc4be08d9"
      },
      "source": [
        "!python3 predict.py"
      ],
      "execution_count": 9,
      "outputs": [
        {
          "output_type": "stream",
          "text": [
            "Using TensorFlow backend.\n",
            "2020-07-01 17:20:18.540470: I tensorflow/stream_executor/platform/default/dso_loader.cc:44] Successfully opened dynamic library libcudart.so.10.1\n",
            "2020-07-01 17:20:21.939722: I tensorflow/stream_executor/platform/default/dso_loader.cc:44] Successfully opened dynamic library libcuda.so.1\n",
            "2020-07-01 17:20:21.958415: I tensorflow/stream_executor/cuda/cuda_gpu_executor.cc:981] successful NUMA node read from SysFS had negative value (-1), but there must be at least one NUMA node, so returning NUMA node zero\n",
            "2020-07-01 17:20:21.959249: I tensorflow/core/common_runtime/gpu/gpu_device.cc:1561] Found device 0 with properties: \n",
            "pciBusID: 0000:00:04.0 name: Tesla K80 computeCapability: 3.7\n",
            "coreClock: 0.8235GHz coreCount: 13 deviceMemorySize: 11.17GiB deviceMemoryBandwidth: 223.96GiB/s\n",
            "2020-07-01 17:20:21.959293: I tensorflow/stream_executor/platform/default/dso_loader.cc:44] Successfully opened dynamic library libcudart.so.10.1\n",
            "2020-07-01 17:20:21.961214: I tensorflow/stream_executor/platform/default/dso_loader.cc:44] Successfully opened dynamic library libcublas.so.10\n",
            "2020-07-01 17:20:21.962941: I tensorflow/stream_executor/platform/default/dso_loader.cc:44] Successfully opened dynamic library libcufft.so.10\n",
            "2020-07-01 17:20:21.963273: I tensorflow/stream_executor/platform/default/dso_loader.cc:44] Successfully opened dynamic library libcurand.so.10\n",
            "2020-07-01 17:20:21.965062: I tensorflow/stream_executor/platform/default/dso_loader.cc:44] Successfully opened dynamic library libcusolver.so.10\n",
            "2020-07-01 17:20:21.965982: I tensorflow/stream_executor/platform/default/dso_loader.cc:44] Successfully opened dynamic library libcusparse.so.10\n",
            "2020-07-01 17:20:21.969490: I tensorflow/stream_executor/platform/default/dso_loader.cc:44] Successfully opened dynamic library libcudnn.so.7\n",
            "2020-07-01 17:20:21.969661: I tensorflow/stream_executor/cuda/cuda_gpu_executor.cc:981] successful NUMA node read from SysFS had negative value (-1), but there must be at least one NUMA node, so returning NUMA node zero\n",
            "2020-07-01 17:20:21.970499: I tensorflow/stream_executor/cuda/cuda_gpu_executor.cc:981] successful NUMA node read from SysFS had negative value (-1), but there must be at least one NUMA node, so returning NUMA node zero\n",
            "2020-07-01 17:20:21.971225: I tensorflow/core/common_runtime/gpu/gpu_device.cc:1703] Adding visible gpu devices: 0\n",
            "2020-07-01 17:20:21.976330: I tensorflow/core/platform/profile_utils/cpu_utils.cc:102] CPU Frequency: 2300000000 Hz\n",
            "2020-07-01 17:20:21.976782: I tensorflow/compiler/xla/service/service.cc:168] XLA service 0x20cd2c0 initialized for platform Host (this does not guarantee that XLA will be used). Devices:\n",
            "2020-07-01 17:20:21.976822: I tensorflow/compiler/xla/service/service.cc:176]   StreamExecutor device (0): Host, Default Version\n",
            "2020-07-01 17:20:22.030979: I tensorflow/stream_executor/cuda/cuda_gpu_executor.cc:981] successful NUMA node read from SysFS had negative value (-1), but there must be at least one NUMA node, so returning NUMA node zero\n",
            "2020-07-01 17:20:22.031922: I tensorflow/compiler/xla/service/service.cc:168] XLA service 0x20cd100 initialized for platform CUDA (this does not guarantee that XLA will be used). Devices:\n",
            "2020-07-01 17:20:22.031953: I tensorflow/compiler/xla/service/service.cc:176]   StreamExecutor device (0): Tesla K80, Compute Capability 3.7\n",
            "2020-07-01 17:20:22.032346: I tensorflow/stream_executor/cuda/cuda_gpu_executor.cc:981] successful NUMA node read from SysFS had negative value (-1), but there must be at least one NUMA node, so returning NUMA node zero\n",
            "2020-07-01 17:20:22.033211: I tensorflow/core/common_runtime/gpu/gpu_device.cc:1561] Found device 0 with properties: \n",
            "pciBusID: 0000:00:04.0 name: Tesla K80 computeCapability: 3.7\n",
            "coreClock: 0.8235GHz coreCount: 13 deviceMemorySize: 11.17GiB deviceMemoryBandwidth: 223.96GiB/s\n",
            "2020-07-01 17:20:22.033274: I tensorflow/stream_executor/platform/default/dso_loader.cc:44] Successfully opened dynamic library libcudart.so.10.1\n",
            "2020-07-01 17:20:22.033327: I tensorflow/stream_executor/platform/default/dso_loader.cc:44] Successfully opened dynamic library libcublas.so.10\n",
            "2020-07-01 17:20:22.033368: I tensorflow/stream_executor/platform/default/dso_loader.cc:44] Successfully opened dynamic library libcufft.so.10\n",
            "2020-07-01 17:20:22.033411: I tensorflow/stream_executor/platform/default/dso_loader.cc:44] Successfully opened dynamic library libcurand.so.10\n",
            "2020-07-01 17:20:22.033484: I tensorflow/stream_executor/platform/default/dso_loader.cc:44] Successfully opened dynamic library libcusolver.so.10\n",
            "2020-07-01 17:20:22.033559: I tensorflow/stream_executor/platform/default/dso_loader.cc:44] Successfully opened dynamic library libcusparse.so.10\n",
            "2020-07-01 17:20:22.033595: I tensorflow/stream_executor/platform/default/dso_loader.cc:44] Successfully opened dynamic library libcudnn.so.7\n",
            "2020-07-01 17:20:22.033797: I tensorflow/stream_executor/cuda/cuda_gpu_executor.cc:981] successful NUMA node read from SysFS had negative value (-1), but there must be at least one NUMA node, so returning NUMA node zero\n",
            "2020-07-01 17:20:22.034785: I tensorflow/stream_executor/cuda/cuda_gpu_executor.cc:981] successful NUMA node read from SysFS had negative value (-1), but there must be at least one NUMA node, so returning NUMA node zero\n",
            "2020-07-01 17:20:22.035655: I tensorflow/core/common_runtime/gpu/gpu_device.cc:1703] Adding visible gpu devices: 0\n",
            "2020-07-01 17:20:22.035793: I tensorflow/stream_executor/platform/default/dso_loader.cc:44] Successfully opened dynamic library libcudart.so.10.1\n",
            "2020-07-01 17:20:22.434234: I tensorflow/core/common_runtime/gpu/gpu_device.cc:1102] Device interconnect StreamExecutor with strength 1 edge matrix:\n",
            "2020-07-01 17:20:22.434293: I tensorflow/core/common_runtime/gpu/gpu_device.cc:1108]      0 \n",
            "2020-07-01 17:20:22.434312: I tensorflow/core/common_runtime/gpu/gpu_device.cc:1121] 0:   N \n",
            "2020-07-01 17:20:22.434612: I tensorflow/stream_executor/cuda/cuda_gpu_executor.cc:981] successful NUMA node read from SysFS had negative value (-1), but there must be at least one NUMA node, so returning NUMA node zero\n",
            "2020-07-01 17:20:22.435490: I tensorflow/stream_executor/cuda/cuda_gpu_executor.cc:981] successful NUMA node read from SysFS had negative value (-1), but there must be at least one NUMA node, so returning NUMA node zero\n",
            "2020-07-01 17:20:22.436207: W tensorflow/core/common_runtime/gpu/gpu_bfc_allocator.cc:39] Overriding allow_growth setting because the TF_FORCE_GPU_ALLOW_GROWTH environment variable is set. Original config value was 0.\n",
            "2020-07-01 17:20:22.436273: I tensorflow/core/common_runtime/gpu/gpu_device.cc:1247] Created TensorFlow device (/job:localhost/replica:0/task:0/device:GPU:0 with 10634 MB memory) -> physical GPU (device: 0, name: Tesla K80, pci bus id: 0000:00:04.0, compute capability: 3.7)\n",
            "2020-07-01 17:20:24.465345: I tensorflow/stream_executor/platform/default/dso_loader.cc:44] Successfully opened dynamic library libcublas.so.10\n"
          ],
          "name": "stdout"
        }
      ]
    },
    {
      "cell_type": "code",
      "metadata": {
        "id": "RK_Jx3ExZLIz",
        "colab_type": "code",
        "colab": {}
      },
      "source": [
        ""
      ],
      "execution_count": null,
      "outputs": []
    }
  ]
}