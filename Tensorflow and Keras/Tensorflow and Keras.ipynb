{
 "cells": [
  {
   "cell_type": "markdown",
   "metadata": {},
   "source": [
    "# Tensorflow Basics"
   ]
  },
  {
   "cell_type": "code",
   "execution_count": 0,
   "metadata": {
    "colab": {},
    "colab_type": "code",
    "id": "W4NSS3O_pQpo"
   },
   "outputs": [],
   "source": [
    "import tensorflow as tf"
   ]
  },
  {
   "cell_type": "code",
   "execution_count": 0,
   "metadata": {
    "colab": {},
    "colab_type": "code",
    "id": "9hJ6fmq0pSiS"
   },
   "outputs": [],
   "source": [
    "import numpy as np"
   ]
  },
  {
   "cell_type": "code",
   "execution_count": 3,
   "metadata": {
    "colab": {
     "base_uri": "https://localhost:8080/",
     "height": 108
    },
    "colab_type": "code",
    "id": "-trEunwGpUPQ",
    "outputId": "683dd444-6252-490c-8bd8-5a970c94ed17"
   },
   "outputs": [
    {
     "name": "stdout",
     "output_type": "stream",
     "text": [
      "tf.Tensor(5.0, shape=(), dtype=float32)\n",
      "tf.Tensor(-1.0, shape=(), dtype=float32)\n",
      "tf.Tensor(6.0, shape=(), dtype=float32)\n",
      "tf.Tensor(0.6666667, shape=(), dtype=float32)\n",
      "mean = 3.3333332538604736\n"
     ]
    }
   ],
   "source": [
    "a = tf.constant(2.0)\n",
    "b = tf.constant(3.0)\n",
    "c = tf.constant(5.0)\n",
    "\n",
    "add = tf.add(a, b)\n",
    "sub = tf.subtract(a, b)\n",
    "mul = tf.multiply(a, b)\n",
    "div = tf.divide(a, b)\n",
    "\n",
    "print(add)\n",
    "print(sub)\n",
    "print(mul)\n",
    "print(div)\n",
    "\n",
    "mymean = tf.reduce_mean([a,b,c])\n",
    "mysum = tf.reduce_sum([a, b, c])\n",
    "\n",
    "print(f'mean = {mymean.numpy()}')"
   ]
  },
  {
   "cell_type": "code",
   "execution_count": 9,
   "metadata": {
    "colab": {
     "base_uri": "https://localhost:8080/",
     "height": 90
    },
    "colab_type": "code",
    "id": "90nytX7IpbgP",
    "outputId": "71610175-4c6a-4a40-a407-b1f2a324ea66"
   },
   "outputs": [
    {
     "name": "stdout",
     "output_type": "stream",
     "text": [
      " Transpose: [[3 1]\n",
      " [7 9]]\n",
      " Mul: [[29]\n",
      " [23]]\n"
     ]
    }
   ],
   "source": [
    "A = tf.constant([[3, 7],\n",
    "                [1, 9]])\n",
    "# V is a column vector\n",
    "V = tf.constant([[5],\n",
    "                 [2]])\n",
    "AT = tf.transpose(A)\n",
    "\n",
    "Av = tf.matmul(A, V)\n",
    "\n",
    "print(f' Transpose: {AT.numpy()}')\n",
    "print(f' Mul: {Av.numpy()}') # 2x2 is multiplied by 2x1 ->> 2x1 result"
   ]
  },
  {
   "cell_type": "code",
   "execution_count": 12,
   "metadata": {
    "colab": {
     "base_uri": "https://localhost:8080/",
     "height": 72
    },
    "colab_type": "code",
    "id": "3EpMDL1Rp9OF",
    "outputId": "3c73856d-6ce7-4fae-c097-a2181a5c2923"
   },
   "outputs": [
    {
     "name": "stdout",
     "output_type": "stream",
     "text": [
      "Element-wise \n",
      " [[15 35]\n",
      " [ 2 18]]\n"
     ]
    }
   ],
   "source": [
    "# Elementwise multiplication\n",
    "\n",
    "Av2 = tf.multiply(A, V)\n",
    "'''\n",
    "Here the first elemet of 5 is multiplied with the first row and same for the second element of V\n",
    "'''\n",
    "print(f'Element-wise \\n {Av2.numpy()}')"
   ]
  },
  {
   "cell_type": "code",
   "execution_count": 13,
   "metadata": {
    "colab": {
     "base_uri": "https://localhost:8080/",
     "height": 53
    },
    "colab_type": "code",
    "id": "YdI2-5RYqtQq",
    "outputId": "cd421f4b-9bec-475f-be64-aa35b318feb1"
   },
   "outputs": [
    {
     "name": "stdout",
     "output_type": "stream",
     "text": [
      "Detereminant is \n",
      " 20.0\n"
     ]
    }
   ],
   "source": [
    "# Find determinant of the matrix\n",
    "A = tf.constant([[3, 7],\n",
    "                [1, 9]])\n",
    "# Typecasting \n",
    "A = tf.cast(A, tf.float32)\n",
    "# 3x9 - 1x7\n",
    "det_A = tf.linalg.det(A)\n",
    "\n",
    "print(f'Detereminant is \\n {det_A.numpy()}')"
   ]
  },
  {
   "cell_type": "code",
   "execution_count": 15,
   "metadata": {
    "colab": {
     "base_uri": "https://localhost:8080/",
     "height": 72
    },
    "colab_type": "code",
    "id": "-em0pS3orU0S",
    "outputId": "31151c9d-2b36-4936-d2e6-5e72d73c7e13"
   },
   "outputs": [
    {
     "name": "stdout",
     "output_type": "stream",
     "text": [
      " Dot product is [[ 939 1878 2210]\n",
      " [1641 1235 3780]\n",
      " [1779 1708 3460]]\n"
     ]
    }
   ],
   "source": [
    "# Dot product\n",
    "\n",
    "A = tf.constant([[23,34, 5],\n",
    "                 [8,23,55],\n",
    "                 [23,24,45]])\n",
    "\n",
    "\n",
    "B = tf.constant([[24,32, 5],\n",
    "                 [8,33,55],\n",
    "                 [23,4,45]])\n",
    "\n",
    "dot_AB = tf.tensordot(A, B, axes=1)\n",
    "# Try axe = 0 H.W.\n",
    "print(f' Dot product is {dot_AB.numpy()}')"
   ]
  },
  {
   "cell_type": "code",
   "execution_count": 16,
   "metadata": {
    "colab": {
     "base_uri": "https://localhost:8080/",
     "height": 35
    },
    "colab_type": "code",
    "id": "8VFdG2lksDCv",
    "outputId": "c45dc39b-0624-4fff-a68d-7efb23d4271f"
   },
   "outputs": [
    {
     "name": "stdout",
     "output_type": "stream",
     "text": [
      " Gradient of y wrt x at x = 4.0 is 48.0\n"
     ]
    }
   ],
   "source": [
    "'''\n",
    "GRADIENT TAPE\n",
    "Gradient means a derivative\n",
    "tensorflow is desin=gned for DL and ML. Gradient can be used to minimize the error or maximize the accuracy i.e optimization of algorithm. \n",
    "GT will automatically will do the differentiation.\n",
    "Let us first understand how Gradient is calculated\n",
    "GD is an iterative optimization procedure\n",
    "'''\n",
    "x = tf.constant(4.0)\n",
    "\n",
    "with tf.GradientTape() as tape:\n",
    "  tape.watch(x)\n",
    "  y = x**3\n",
    "\n",
    "#Subfunction of tf.GradientTape. Grad will be dy/dx\n",
    "grad = tape.gradient(y, x)\n",
    "#dy/dx = x^3 >> subs x with 4 so 3x4^2\n",
    "#This does automatic differentiation\n",
    "print(f' Gradient of y wrt x at x = {x} is {grad.numpy()}')"
   ]
  },
  {
   "cell_type": "code",
   "execution_count": 19,
   "metadata": {
    "colab": {
     "base_uri": "https://localhost:8080/",
     "height": 35
    },
    "colab_type": "code",
    "id": "dyoulpCrtVbl",
    "outputId": "6eebf425-8395-477e-8510-d25ad574bf23"
   },
   "outputs": [
    {
     "name": "stdout",
     "output_type": "stream",
     "text": [
      " Gradient of y wrt x at x = <tf.Variable 'Variable:0' shape=() dtype=float32, numpy=4.0> is 48.0\n"
     ]
    }
   ],
   "source": [
    "x = tf.Variable(4.0, trainable = True)\n",
    "\n",
    "with tf.GradientTape() as tape:\n",
    "  #tape.watch(x)  Only if you are using for constant\n",
    "  y = x**3\n",
    "grad = tape.gradient(y, x)\n",
    "print(f' Gradient of y wrt x at x = {x} is {grad.numpy()}')"
   ]
  },
  {
   "cell_type": "code",
   "execution_count": 20,
   "metadata": {
    "colab": {
     "base_uri": "https://localhost:8080/",
     "height": 35
    },
    "colab_type": "code",
    "id": "APAJVQl-unLF",
    "outputId": "9c9f6411-1db7-43e5-dfa4-e50e07f24cb7"
   },
   "outputs": [
    {
     "name": "stdout",
     "output_type": "stream",
     "text": [
      "2nd order gradient of y wrt x at 4.0 is 24.0\n"
     ]
    }
   ],
   "source": [
    "# Higher order derivatives\n",
    "\n",
    "x = tf.Variable(4.0, trainable = True)\n",
    "\n",
    "with tf.GradientTape() as tape:\n",
    "  with tf.GradientTape() as tape1:\n",
    "    y = x**3\n",
    "  order1 = tape1.gradient(y, x)\n",
    "order2 = tape.gradient(order1, x)\n",
    "print(f'2nd order gradient of y wrt x at {x.numpy()} is {order2.numpy()}')"
   ]
  },
  {
   "cell_type": "code",
   "execution_count": 21,
   "metadata": {
    "colab": {
     "base_uri": "https://localhost:8080/",
     "height": 53
    },
    "colab_type": "code",
    "id": "SEQxD6JJwGGK",
    "outputId": "9afc8cb5-0620-4886-9355-6d914b826f04"
   },
   "outputs": [
    {
     "name": "stdout",
     "output_type": "stream",
     "text": [
      "Gradient y1 wrt a at a = 5.0 is 10.0\n",
      "Gradient y1 wrt a at a = 4.0 is 48.0\n"
     ]
    }
   ],
   "source": [
    "# Persistent: store the information internally\n",
    "\n",
    "a = tf.Variable(5.0, trainable = True)\n",
    "b = tf.Variable(4.0, trainable = True)\n",
    "'''\n",
    "When we initialise the persistent the tape.gradient can be called as many times as required. If its False, you cannot reuse the tape.gradient and the after\n",
    "calling the tape it gets released from the memory\n",
    "'''\n",
    "with tf.GradientTape(persistent = True) as tape:\n",
    "  #tape.watch(x)  Only if you are using for constant\n",
    "  y1 = a**2\n",
    "  y2 = b**3\n",
    "\n",
    "ga = tape.gradient(y1, a)\n",
    "gb = tape.gradient(y2, b)\n",
    "\n",
    "print(f'Gradient y1 wrt a at a = {a.numpy()} is {ga.numpy()}')\n",
    "\n",
    "print(f'Gradient y1 wrt a at a = {b.numpy()} is {gb.numpy()}')"
   ]
  },
  {
   "cell_type": "markdown",
   "metadata": {},
   "source": [
    "# Keras \n",
    "### Fashion Mnist classification"
   ]
  },
  {
   "cell_type": "code",
   "execution_count": 23,
   "metadata": {
    "colab": {
     "base_uri": "https://localhost:8080/",
     "height": 162
    },
    "colab_type": "code",
    "id": "C1q1842A6WUj",
    "outputId": "986d66f0-bc3a-4348-cb20-46a99be4719d"
   },
   "outputs": [
    {
     "name": "stdout",
     "output_type": "stream",
     "text": [
      "Downloading data from https://storage.googleapis.com/tensorflow/tf-keras-datasets/train-labels-idx1-ubyte.gz\n",
      "32768/29515 [=================================] - 0s 0us/step\n",
      "Downloading data from https://storage.googleapis.com/tensorflow/tf-keras-datasets/train-images-idx3-ubyte.gz\n",
      "26427392/26421880 [==============================] - 0s 0us/step\n",
      "Downloading data from https://storage.googleapis.com/tensorflow/tf-keras-datasets/t10k-labels-idx1-ubyte.gz\n",
      "8192/5148 [===============================================] - 0s 0us/step\n",
      "Downloading data from https://storage.googleapis.com/tensorflow/tf-keras-datasets/t10k-images-idx3-ubyte.gz\n",
      "4423680/4422102 [==============================] - 0s 0us/step\n"
     ]
    }
   ],
   "source": [
    "#KERAS\n",
    "'''\n",
    "Higher level library that was build on top of tensorflow which it self is built on top of numpy, pandas\n",
    "'''\n",
    "from tensorflow import keras\n",
    "fashion_mnist = keras.datasets.fashion_mnist\n",
    "\n",
    "(train_images, train_labels), (test_images, test_labels) = fashion_mnist.load_data()"
   ]
  },
  {
   "cell_type": "code",
   "execution_count": 34,
   "metadata": {
    "colab": {
     "base_uri": "https://localhost:8080/",
     "height": 35
    },
    "colab_type": "code",
    "id": "eWjPEnS47J64",
    "outputId": "9fce1143-d8a5-4957-8c67-737a6bba96e3"
   },
   "outputs": [
    {
     "name": "stdout",
     "output_type": "stream",
     "text": [
      "(60000, 28, 28) (60000,) (10000, 28, 28) (10000,)\n"
     ]
    }
   ],
   "source": [
    "class_names = ['T-shirt/top', 'Trouser', 'Pullover', 'Dress', 'Coat', 'Sandal', 'Shirt', 'Sneakers', 'Bag', 'Ankle boot']\n",
    "\n",
    "print(train_images.shape, train_labels.shape, test_images.shape, test_labels.shape)"
   ]
  },
  {
   "cell_type": "code",
   "execution_count": 0,
   "metadata": {
    "colab": {},
    "colab_type": "code",
    "id": "RypUO9U87bIP"
   },
   "outputs": [],
   "source": [
    "#Type casting to floating point tensor\n",
    "train_images = train_images/255.0\n",
    "test_images = test_images/255.0"
   ]
  },
  {
   "cell_type": "code",
   "execution_count": 0,
   "metadata": {
    "colab": {},
    "colab_type": "code",
    "id": "6UxVIUol7kG2"
   },
   "outputs": [],
   "source": [
    "# Creating the Vanila neural network\n",
    "# 784 --- 256 -- 10\n",
    "'''\n",
    "Flatten : convert 28x28 matrix into a vector\n",
    "Dense : The layer is if fully connected i.e. 784 neurons connected to all 256 neurons \n",
    "'''\n",
    "model = keras.Sequential([\n",
    "                          keras.layers.Flatten(input_shape = (28, 28)),\n",
    "                          keras.layers.Dense(256, activation= 'relu'),\n",
    "                          keras.layers.Dense(10)\n",
    "])"
   ]
  },
  {
   "cell_type": "code",
   "execution_count": 0,
   "metadata": {
    "colab": {},
    "colab_type": "code",
    "id": "lSu6ZZJu8xab"
   },
   "outputs": [],
   "source": [
    "'''\n",
    "Cross Entropy is the diff between 2 probability distributions\n",
    "'''\n",
    "model.compile(optimizer='adam',\n",
    "              loss = tf.keras.losses.SparseCategoricalCrossentropy(from_logits= True),\n",
    "              metrics = ['accuracy'])"
   ]
  },
  {
   "cell_type": "code",
   "execution_count": 31,
   "metadata": {
    "colab": {
     "base_uri": "https://localhost:8080/",
     "height": 1000
    },
    "colab_type": "code",
    "id": "zSp0nc-u9waX",
    "outputId": "a7c55140-04b4-4c95-d990-f351f8457581"
   },
   "outputs": [
    {
     "name": "stdout",
     "output_type": "stream",
     "text": [
      "Epoch 1/90\n",
      "1875/1875 [==============================] - 4s 2ms/step - loss: 0.4157 - accuracy: 0.8572\n",
      "Epoch 2/90\n",
      "1875/1875 [==============================] - 4s 2ms/step - loss: 0.4216 - accuracy: 0.8571\n",
      "Epoch 3/90\n",
      "1875/1875 [==============================] - 4s 2ms/step - loss: 0.4294 - accuracy: 0.8554\n",
      "Epoch 4/90\n",
      "1875/1875 [==============================] - 4s 2ms/step - loss: 0.4220 - accuracy: 0.8576\n",
      "Epoch 5/90\n",
      "1875/1875 [==============================] - 4s 2ms/step - loss: 0.4100 - accuracy: 0.8580\n",
      "Epoch 6/90\n",
      "1875/1875 [==============================] - 4s 2ms/step - loss: 0.4146 - accuracy: 0.8591\n",
      "Epoch 7/90\n",
      "1875/1875 [==============================] - 4s 2ms/step - loss: 0.4082 - accuracy: 0.8603\n",
      "Epoch 8/90\n",
      "1875/1875 [==============================] - 4s 2ms/step - loss: 0.4313 - accuracy: 0.8577\n",
      "Epoch 9/90\n",
      "1875/1875 [==============================] - 4s 2ms/step - loss: 0.4135 - accuracy: 0.8602\n",
      "Epoch 10/90\n",
      "1875/1875 [==============================] - 4s 2ms/step - loss: 0.4063 - accuracy: 0.8597\n",
      "Epoch 11/90\n",
      "1875/1875 [==============================] - 4s 2ms/step - loss: 0.4177 - accuracy: 0.8594\n",
      "Epoch 12/90\n",
      "1875/1875 [==============================] - 4s 2ms/step - loss: 0.4103 - accuracy: 0.8620\n",
      "Epoch 13/90\n",
      "1875/1875 [==============================] - 4s 2ms/step - loss: 0.4147 - accuracy: 0.8604\n",
      "Epoch 14/90\n",
      "1875/1875 [==============================] - 4s 2ms/step - loss: 0.4127 - accuracy: 0.8609\n",
      "Epoch 15/90\n",
      "1875/1875 [==============================] - 4s 2ms/step - loss: 0.4008 - accuracy: 0.8627\n",
      "Epoch 16/90\n",
      "1875/1875 [==============================] - 4s 2ms/step - loss: 0.4166 - accuracy: 0.8589\n",
      "Epoch 17/90\n",
      "1875/1875 [==============================] - 4s 2ms/step - loss: 0.4106 - accuracy: 0.8609\n",
      "Epoch 18/90\n",
      "1875/1875 [==============================] - 4s 2ms/step - loss: 0.3974 - accuracy: 0.8632\n",
      "Epoch 19/90\n",
      "1875/1875 [==============================] - 4s 2ms/step - loss: 0.4088 - accuracy: 0.8630\n",
      "Epoch 20/90\n",
      "1875/1875 [==============================] - 4s 2ms/step - loss: 0.4077 - accuracy: 0.8628\n",
      "Epoch 21/90\n",
      "1875/1875 [==============================] - 4s 2ms/step - loss: 0.4121 - accuracy: 0.8620\n",
      "Epoch 22/90\n",
      "1875/1875 [==============================] - 4s 2ms/step - loss: 0.4125 - accuracy: 0.8615\n",
      "Epoch 23/90\n",
      "1875/1875 [==============================] - 4s 2ms/step - loss: 0.4046 - accuracy: 0.8627\n",
      "Epoch 24/90\n",
      "1875/1875 [==============================] - 4s 2ms/step - loss: 0.4196 - accuracy: 0.8615\n",
      "Epoch 25/90\n",
      "1875/1875 [==============================] - 4s 2ms/step - loss: 0.4029 - accuracy: 0.8624\n",
      "Epoch 26/90\n",
      "1875/1875 [==============================] - 4s 2ms/step - loss: 0.4028 - accuracy: 0.8641\n",
      "Epoch 27/90\n",
      "1875/1875 [==============================] - 4s 2ms/step - loss: 0.4020 - accuracy: 0.8650\n",
      "Epoch 28/90\n",
      "1875/1875 [==============================] - 4s 2ms/step - loss: 0.4064 - accuracy: 0.8623\n",
      "Epoch 29/90\n",
      "1875/1875 [==============================] - 4s 2ms/step - loss: 0.3933 - accuracy: 0.8657\n",
      "Epoch 30/90\n",
      "1875/1875 [==============================] - 4s 2ms/step - loss: 0.4067 - accuracy: 0.8634\n",
      "Epoch 31/90\n",
      "1875/1875 [==============================] - 4s 2ms/step - loss: 0.4043 - accuracy: 0.8650\n",
      "Epoch 32/90\n",
      "1875/1875 [==============================] - 4s 2ms/step - loss: 0.3986 - accuracy: 0.8650\n",
      "Epoch 33/90\n",
      "1875/1875 [==============================] - 4s 2ms/step - loss: 0.3962 - accuracy: 0.8668\n",
      "Epoch 34/90\n",
      "1875/1875 [==============================] - 4s 2ms/step - loss: 0.4114 - accuracy: 0.8619\n",
      "Epoch 35/90\n",
      "1875/1875 [==============================] - 4s 2ms/step - loss: 0.4011 - accuracy: 0.8650\n",
      "Epoch 36/90\n",
      "1875/1875 [==============================] - 4s 2ms/step - loss: 0.4020 - accuracy: 0.8646\n",
      "Epoch 37/90\n",
      "1875/1875 [==============================] - 4s 2ms/step - loss: 0.3914 - accuracy: 0.8674\n",
      "Epoch 38/90\n",
      "1875/1875 [==============================] - 4s 2ms/step - loss: 0.4041 - accuracy: 0.8644\n",
      "Epoch 39/90\n",
      "1875/1875 [==============================] - 4s 2ms/step - loss: 0.3931 - accuracy: 0.8664\n",
      "Epoch 40/90\n",
      "1875/1875 [==============================] - 4s 2ms/step - loss: 0.3988 - accuracy: 0.8664\n",
      "Epoch 41/90\n",
      "1875/1875 [==============================] - 4s 2ms/step - loss: 0.3987 - accuracy: 0.8650\n",
      "Epoch 42/90\n",
      "1875/1875 [==============================] - 4s 2ms/step - loss: 0.3938 - accuracy: 0.8654\n",
      "Epoch 43/90\n",
      "1875/1875 [==============================] - 4s 2ms/step - loss: 0.3917 - accuracy: 0.8671\n",
      "Epoch 44/90\n",
      "1875/1875 [==============================] - 4s 2ms/step - loss: 0.3882 - accuracy: 0.8678\n",
      "Epoch 45/90\n",
      "1875/1875 [==============================] - 4s 2ms/step - loss: 0.3920 - accuracy: 0.8685\n",
      "Epoch 46/90\n",
      "1875/1875 [==============================] - 4s 2ms/step - loss: 0.3921 - accuracy: 0.8674\n",
      "Epoch 47/90\n",
      "1875/1875 [==============================] - 4s 2ms/step - loss: 0.3972 - accuracy: 0.8673\n",
      "Epoch 48/90\n",
      "1875/1875 [==============================] - 5s 3ms/step - loss: 0.3967 - accuracy: 0.8676\n",
      "Epoch 49/90\n",
      "1875/1875 [==============================] - 7s 4ms/step - loss: 0.3927 - accuracy: 0.8679\n",
      "Epoch 50/90\n",
      "1875/1875 [==============================] - 4s 2ms/step - loss: 0.3945 - accuracy: 0.8680\n",
      "Epoch 51/90\n",
      "1875/1875 [==============================] - 4s 2ms/step - loss: 0.4064 - accuracy: 0.8653\n",
      "Epoch 52/90\n",
      "1875/1875 [==============================] - 4s 2ms/step - loss: 0.3893 - accuracy: 0.8675\n",
      "Epoch 53/90\n",
      "1875/1875 [==============================] - 4s 2ms/step - loss: 0.3999 - accuracy: 0.8662\n",
      "Epoch 54/90\n",
      "1875/1875 [==============================] - 4s 2ms/step - loss: 0.3926 - accuracy: 0.8666\n",
      "Epoch 55/90\n",
      "1875/1875 [==============================] - 4s 2ms/step - loss: 0.3947 - accuracy: 0.8687\n",
      "Epoch 56/90\n",
      "1875/1875 [==============================] - 4s 2ms/step - loss: 0.3870 - accuracy: 0.8673\n",
      "Epoch 57/90\n",
      "1875/1875 [==============================] - 4s 2ms/step - loss: 0.4124 - accuracy: 0.8662\n",
      "Epoch 58/90\n",
      "1875/1875 [==============================] - 4s 2ms/step - loss: 0.4015 - accuracy: 0.8655\n",
      "Epoch 59/90\n",
      "1875/1875 [==============================] - 4s 2ms/step - loss: 0.3886 - accuracy: 0.8688\n",
      "Epoch 60/90\n",
      "1875/1875 [==============================] - 4s 2ms/step - loss: 0.3944 - accuracy: 0.8674\n",
      "Epoch 61/90\n",
      "1875/1875 [==============================] - 4s 2ms/step - loss: 0.4001 - accuracy: 0.8675\n",
      "Epoch 62/90\n",
      "1875/1875 [==============================] - 4s 2ms/step - loss: 0.3856 - accuracy: 0.8687\n",
      "Epoch 63/90\n",
      "1875/1875 [==============================] - 4s 2ms/step - loss: 0.3839 - accuracy: 0.8698\n",
      "Epoch 64/90\n",
      "1875/1875 [==============================] - 4s 2ms/step - loss: 0.3844 - accuracy: 0.8697\n",
      "Epoch 65/90\n",
      "1875/1875 [==============================] - 4s 2ms/step - loss: 0.4111 - accuracy: 0.8649\n",
      "Epoch 66/90\n",
      "1875/1875 [==============================] - 4s 2ms/step - loss: 0.3882 - accuracy: 0.8677\n",
      "Epoch 67/90\n",
      "1875/1875 [==============================] - 4s 2ms/step - loss: 0.4014 - accuracy: 0.8681\n",
      "Epoch 68/90\n",
      "1875/1875 [==============================] - 4s 2ms/step - loss: 0.3898 - accuracy: 0.8679\n",
      "Epoch 69/90\n",
      "1875/1875 [==============================] - 4s 2ms/step - loss: 0.3805 - accuracy: 0.8703\n",
      "Epoch 70/90\n",
      "1875/1875 [==============================] - 4s 2ms/step - loss: 0.3913 - accuracy: 0.8694\n",
      "Epoch 71/90\n",
      "1875/1875 [==============================] - 4s 2ms/step - loss: 0.3985 - accuracy: 0.8664\n",
      "Epoch 72/90\n",
      "1875/1875 [==============================] - 4s 2ms/step - loss: 0.3810 - accuracy: 0.8682\n",
      "Epoch 73/90\n",
      "1875/1875 [==============================] - 4s 2ms/step - loss: 0.3852 - accuracy: 0.8689\n",
      "Epoch 74/90\n",
      "1875/1875 [==============================] - 4s 2ms/step - loss: 0.3991 - accuracy: 0.8655\n",
      "Epoch 75/90\n",
      "1875/1875 [==============================] - 4s 2ms/step - loss: 0.3995 - accuracy: 0.8680\n",
      "Epoch 76/90\n",
      "1875/1875 [==============================] - 4s 2ms/step - loss: 0.3831 - accuracy: 0.8722\n",
      "Epoch 77/90\n",
      "1875/1875 [==============================] - 4s 2ms/step - loss: 0.3950 - accuracy: 0.8688\n",
      "Epoch 78/90\n",
      "1875/1875 [==============================] - 4s 2ms/step - loss: 0.3876 - accuracy: 0.8674\n",
      "Epoch 79/90\n",
      "1875/1875 [==============================] - 4s 2ms/step - loss: 0.3858 - accuracy: 0.8701\n",
      "Epoch 80/90\n",
      "1875/1875 [==============================] - 4s 2ms/step - loss: 0.3873 - accuracy: 0.8676\n",
      "Epoch 81/90\n",
      "1875/1875 [==============================] - 4s 2ms/step - loss: 0.3836 - accuracy: 0.8719\n",
      "Epoch 82/90\n",
      "1875/1875 [==============================] - 4s 2ms/step - loss: 0.3835 - accuracy: 0.8717\n",
      "Epoch 83/90\n",
      "1875/1875 [==============================] - 4s 2ms/step - loss: 0.3890 - accuracy: 0.8708\n",
      "Epoch 84/90\n",
      "1875/1875 [==============================] - 4s 2ms/step - loss: 0.3930 - accuracy: 0.8679\n",
      "Epoch 85/90\n",
      "1875/1875 [==============================] - 4s 2ms/step - loss: 0.3709 - accuracy: 0.8738\n",
      "Epoch 86/90\n",
      "1875/1875 [==============================] - 4s 2ms/step - loss: 0.3923 - accuracy: 0.8692\n",
      "Epoch 87/90\n",
      "1875/1875 [==============================] - 4s 2ms/step - loss: 0.4048 - accuracy: 0.8683\n",
      "Epoch 88/90\n",
      "1875/1875 [==============================] - 4s 2ms/step - loss: 0.3804 - accuracy: 0.8715\n",
      "Epoch 89/90\n",
      "1875/1875 [==============================] - 4s 2ms/step - loss: 0.3861 - accuracy: 0.8732\n",
      "Epoch 90/90\n",
      "1875/1875 [==============================] - 4s 2ms/step - loss: 0.3904 - accuracy: 0.8694\n"
     ]
    },
    {
     "data": {
      "text/plain": [
       "<tensorflow.python.keras.callbacks.History at 0x7ff63b0b3b70>"
      ]
     },
     "execution_count": 31,
     "metadata": {
      "tags": []
     },
     "output_type": "execute_result"
    }
   ],
   "source": [
    "#training\n",
    "\n",
    "model.fit(train_images, train_labels, epochs=90)"
   ]
  },
  {
   "cell_type": "code",
   "execution_count": 36,
   "metadata": {
    "colab": {
     "base_uri": "https://localhost:8080/",
     "height": 53
    },
    "colab_type": "code",
    "id": "F8GhXE7997mf",
    "outputId": "0d65ae7a-0ec4-4d87-e501-0672961fcb02"
   },
   "outputs": [
    {
     "name": "stdout",
     "output_type": "stream",
     "text": [
      "313/313 [==============================] - 0s 1ms/step - loss: 0.8955 - accuracy: 0.8413\n",
      "0.8413000106811523\n"
     ]
    }
   ],
   "source": [
    "#Evaluate the  model: What happens on  the test data\n",
    "test_loss, test_acc = model.evaluate(test_images, test_labels)\n",
    "print(test_acc)"
   ]
  },
  {
   "cell_type": "code",
   "execution_count": 41,
   "metadata": {
    "colab": {
     "base_uri": "https://localhost:8080/",
     "height": 1000
    },
    "colab_type": "code",
    "id": "mYv2r23o_LmF",
    "outputId": "552cc381-7c7f-4e85-df1d-f53d90063958"
   },
   "outputs": [
    {
     "data": {
      "image/png": "[encoded data removed]",
      "text/plain": [
       "<Figure size 432x288 with 1 Axes>"
      ]
     },
     "metadata": {
      "needs_background": "light",
      "tags": []
     },
     "output_type": "display_data"
    },
    {
     "name": "stdout",
     "output_type": "stream",
     "text": [
      "Model pred = Ankle boot, Orignal label = Ankle boot\n"
     ]
    },
    {
     "data": {
      "image/png": "[encoded data removed]",
      "text/plain": [
       "<Figure size 432x288 with 1 Axes>"
      ]
     },
     "metadata": {
      "needs_background": "light",
      "tags": []
     },
     "output_type": "display_data"
    },
    {
     "name": "stdout",
     "output_type": "stream",
     "text": [
      "Model pred = Pullover, Orignal label = Pullover\n"
     ]
    },
    {
     "data": {
      "image/png": "[encoded data removed]",
      "text/plain": [
       "<Figure size 432x288 with 1 Axes>"
      ]
     },
     "metadata": {
      "needs_background": "light",
      "tags": []
     },
     "output_type": "display_data"
    },
    {
     "name": "stdout",
     "output_type": "stream",
     "text": [
      "Model pred = Trouser, Orignal label = Trouser\n"
     ]
    },
    {
     "data": {
      "image/png": "[encoded data removed]",
      "text/plain": [
       "<Figure size 432x288 with 1 Axes>"
      ]
     },
     "metadata": {
      "needs_background": "light",
      "tags": []
     },
     "output_type": "display_data"
    },
    {
     "name": "stdout",
     "output_type": "stream",
     "text": [
      "Model pred = Trouser, Orignal label = Trouser\n"
     ]
    },
    {
     "data": {
      "image/png": "[encoded data removed]",
      "text/plain": [
       "<Figure size 432x288 with 1 Axes>"
      ]
     },
     "metadata": {
      "needs_background": "light",
      "tags": []
     },
     "output_type": "display_data"
    },
    {
     "name": "stdout",
     "output_type": "stream",
     "text": [
      "Model pred = Shirt, Orignal label = Shirt\n"
     ]
    },
    {
     "data": {
      "image/png": "[encoded data removed]",
      "text/plain": [
       "<Figure size 432x288 with 1 Axes>"
      ]
     },
     "metadata": {
      "needs_background": "light",
      "tags": []
     },
     "output_type": "display_data"
    },
    {
     "name": "stdout",
     "output_type": "stream",
     "text": [
      "Model pred = Trouser, Orignal label = Trouser\n"
     ]
    },
    {
     "data": {
      "image/png": "[encoded data removed]",
      "text/plain": [
       "<Figure size 432x288 with 1 Axes>"
      ]
     },
     "metadata": {
      "needs_background": "light",
      "tags": []
     },
     "output_type": "display_data"
    },
    {
     "name": "stdout",
     "output_type": "stream",
     "text": [
      "Model pred = Coat, Orignal label = Coat\n"
     ]
    },
    {
     "data": {
      "image/png": "[encoded data removed]",
      "text/plain": [
       "<Figure size 432x288 with 1 Axes>"
      ]
     },
     "metadata": {
      "needs_background": "light",
      "tags": []
     },
     "output_type": "display_data"
    },
    {
     "name": "stdout",
     "output_type": "stream",
     "text": [
      "Model pred = Shirt, Orignal label = Shirt\n"
     ]
    }
   ],
   "source": [
    "import matplotlib.pyplot as plt\n",
    "import numpy as np\n",
    "\n",
    "n_images = 8\n",
    "test_imgs = test_images[:n_images]\n",
    "test_labs = test_labels[:n_images]\n",
    "preds = model.predict(test_imgs)\n",
    "for i in range(n_images):\n",
    "  plt.imshow(np.reshape(test_imgs[i], [28,28]), cmap = 'gray')\n",
    "  plt.show()\n",
    "  print(f'Model pred = {class_names[np.argmax(preds[i])]}, Orignal label = {class_names[test_labs[i]]}')"
   ]
  },
  {
   "cell_type": "code",
   "execution_count": 0,
   "metadata": {
    "colab": {},
    "colab_type": "code",
    "id": "YspB79GPEVDg"
   },
   "outputs": [],
   "source": []
  }
 ],
 "metadata": {
  "colab": {
   "collapsed_sections": [],
   "name": "Tensorflow.ipynb",
   "provenance": []
  },
  "kernelspec": {
   "display_name": "Python 3",
   "language": "python",
   "name": "python3"
  },
  "language_info": {
   "codemirror_mode": {
    "name": "ipython",
    "version": 3
   },
   "file_extension": ".py",
   "mimetype": "text/x-python",
   "name": "python",
   "nbconvert_exporter": "python",
   "pygments_lexer": "ipython3",
   "version": "3.7.6"
  }
 },
 "nbformat": 4,
 "nbformat_minor": 1
}
